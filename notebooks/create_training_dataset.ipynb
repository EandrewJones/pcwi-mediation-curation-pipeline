{
 "cells": [
  {
   "cell_type": "code",
   "execution_count": 1,
   "metadata": {},
   "outputs": [],
   "source": [
    "import pandas as pd\n",
    "import numpy as np\n",
    "import json\n",
    "import os\n",
    "import pickle\n",
    "\n",
    "seed = 123"
   ]
  },
  {
   "cell_type": "markdown",
   "metadata": {},
   "source": [
    "# Data ingestion\n",
    "\n",
    "Load pickled dataset, store as csv locally and on box. Then convert to a huggingface-friendly dataset."
   ]
  },
  {
   "cell_type": "code",
   "execution_count": 2,
   "metadata": {},
   "outputs": [
    {
     "name": "stdout",
     "output_type": "stream",
     "text": [
      "<class 'pandas.core.frame.DataFrame'>\n",
      "RangeIndex: 107611 entries, 0 to 107610\n",
      "Data columns (total 10 columns):\n",
      " #   Column               Non-Null Count   Dtype \n",
      "---  ------               --------------   ----- \n",
      " 0   Document.DocumentId  107611 non-null  object\n",
      " 1   Document.Content     107611 non-null  object\n",
      " 2   Source.Name          107611 non-null  object\n",
      " 3   ConfirmedMediation   107611 non-null  bool  \n",
      " 4   title                106156 non-null  object\n",
      " 5   author               33642 non-null   object\n",
      " 6   publication_date     107611 non-null  object\n",
      " 7   body_text            107604 non-null  object\n",
      " 8   search_str           107611 non-null  object\n",
      " 9   lang                 107611 non-null  object\n",
      "dtypes: bool(1), object(9)\n",
      "memory usage: 7.5+ MB\n"
     ]
    }
   ],
   "source": [
    "# Load the bulk news documents\n",
    "file_path = '../data/mediation_search_results.pkl'\n",
    "with open(file_path, 'rb') as infile:\n",
    "    try:\n",
    "        data = pickle.load(infile)\n",
    "    except Exception as e:\n",
    "        raise e\n",
    "\n",
    "# Examine data frame\n",
    "data.info()"
   ]
  },
  {
   "cell_type": "code",
   "execution_count": 3,
   "metadata": {},
   "outputs": [
    {
     "data": {
      "text/plain": [
       "en    0.965914\n",
       "fr    0.024291\n",
       "de    0.003308\n",
       "nl    0.003002\n",
       "es    0.001998\n",
       "it    0.000836\n",
       "da    0.000186\n",
       "pt    0.000112\n",
       "ms    0.000084\n",
       "sp    0.000084\n",
       "af    0.000065\n",
       "ru    0.000037\n",
       "id    0.000019\n",
       "br    0.000019\n",
       "ar    0.000009\n",
       "tl    0.000009\n",
       "bg    0.000009\n",
       "bn    0.000009\n",
       "sw    0.000009\n",
       "Name: lang, dtype: float64"
      ]
     },
     "execution_count": 3,
     "metadata": {},
     "output_type": "execute_result"
    }
   ],
   "source": [
    "# Add language column\n",
    "data['lang'].value_counts(normalize=True)"
   ]
  },
  {
   "cell_type": "code",
   "execution_count": 4,
   "metadata": {},
   "outputs": [
    {
     "data": {
      "text/plain": [
       "Series([], Name: body_text, dtype: object)"
      ]
     },
     "execution_count": 4,
     "metadata": {},
     "output_type": "execute_result"
    }
   ],
   "source": [
    "# Ensure en and EN both are english\n",
    "data.loc[data['lang'] == 'EN']['body_text']"
   ]
  },
  {
   "cell_type": "code",
   "execution_count": 5,
   "metadata": {},
   "outputs": [
    {
     "data": {
      "text/plain": [
       "en    0.965914\n",
       "fr    0.024291\n",
       "de    0.003308\n",
       "nl    0.003002\n",
       "es    0.001998\n",
       "it    0.000836\n",
       "da    0.000186\n",
       "pt    0.000112\n",
       "ms    0.000084\n",
       "sp    0.000084\n",
       "af    0.000065\n",
       "ru    0.000037\n",
       "id    0.000019\n",
       "br    0.000019\n",
       "ar    0.000009\n",
       "tl    0.000009\n",
       "bg    0.000009\n",
       "bn    0.000009\n",
       "sw    0.000009\n",
       "Name: lang, dtype: float64"
      ]
     },
     "execution_count": 5,
     "metadata": {},
     "output_type": "execute_result"
    }
   ],
   "source": [
    "# convert all language strings to lower\n",
    "data['lang'] = data['lang'].str.lower()\n",
    "data['lang'].value_counts(normalize=True)"
   ]
  },
  {
   "cell_type": "code",
   "execution_count": 6,
   "metadata": {},
   "outputs": [
    {
     "name": "stdout",
     "output_type": "stream",
     "text": [
      "<class 'pandas.core.frame.DataFrame'>\n",
      "Int64Index: 103943 entries, 0 to 107610\n",
      "Data columns (total 10 columns):\n",
      " #   Column               Non-Null Count   Dtype \n",
      "---  ------               --------------   ----- \n",
      " 0   Document.DocumentId  103943 non-null  object\n",
      " 1   Document.Content     103943 non-null  object\n",
      " 2   Source.Name          103943 non-null  object\n",
      " 3   ConfirmedMediation   103943 non-null  bool  \n",
      " 4   title                102518 non-null  object\n",
      " 5   author               31720 non-null   object\n",
      " 6   publication_date     103943 non-null  object\n",
      " 7   body_text            103936 non-null  object\n",
      " 8   search_str           103943 non-null  object\n",
      " 9   lang                 103943 non-null  object\n",
      "dtypes: bool(1), object(9)\n",
      "memory usage: 8.0+ MB\n"
     ]
    }
   ],
   "source": [
    "# Subset to english only\n",
    "en_idx = (data['lang'] == 'en')\n",
    "en_data = data.loc[en_idx]\n",
    "en_data.info()"
   ]
  },
  {
   "cell_type": "code",
   "execution_count": 7,
   "metadata": {},
   "outputs": [
    {
     "data": {
      "text/plain": [
       "(0, 10)"
      ]
     },
     "execution_count": 7,
     "metadata": {},
     "output_type": "execute_result"
    }
   ],
   "source": [
    "# How many non-english entries are mediation events?\n",
    "en_and_med_idx = (data['lang'] != 'en') & (data['ConfirmedMediation'])\n",
    "data.loc[en_and_med_idx].shape"
   ]
  },
  {
   "cell_type": "code",
   "execution_count": 8,
   "metadata": {},
   "outputs": [],
   "source": [
    "def df_to_csv(path, df, sep=';'):\n",
    "    if not os.path.exists(path):\n",
    "        print('CSV does not exist. Writing...')\n",
    "        try:\n",
    "            df.to_csv(path, index=False,  sep=sep)\n",
    "        except Exception as e:\n",
    "            raise e\n",
    "        print('CSV saved.')\n",
    "    else:\n",
    "        print('CSV already exists.')"
   ]
  },
  {
   "cell_type": "code",
   "execution_count": 9,
   "metadata": {},
   "outputs": [
    {
     "name": "stdout",
     "output_type": "stream",
     "text": [
      "CSV does not exist. Writing...\n",
      "CSV saved.\n",
      "CSV does not exist. Writing...\n",
      "CSV saved.\n"
     ]
    }
   ],
   "source": [
    "# Write to all to local csv\n",
    "outfile = '../data/mediation_search_results-all.csv'\n",
    "outfile_en = '../data/mediation_search_results-all_en.csv'\n",
    "\n",
    "for f, df in zip([outfile, outfile_en], [data, en_data]):\n",
    "    df_to_csv(f, df=df, sep=',')"
   ]
  },
  {
   "cell_type": "code",
   "execution_count": 9,
   "metadata": {},
   "outputs": [
    {
     "data": {
      "text/html": [
       "<div>\n",
       "<style scoped>\n",
       "    .dataframe tbody tr th:only-of-type {\n",
       "        vertical-align: middle;\n",
       "    }\n",
       "\n",
       "    .dataframe tbody tr th {\n",
       "        vertical-align: top;\n",
       "    }\n",
       "\n",
       "    .dataframe thead th {\n",
       "        text-align: right;\n",
       "    }\n",
       "</style>\n",
       "<table border=\"1\" class=\"dataframe\">\n",
       "  <thead>\n",
       "    <tr style=\"text-align: right;\">\n",
       "      <th></th>\n",
       "      <th>index</th>\n",
       "      <th>Document.DocumentId</th>\n",
       "      <th>Document.Content</th>\n",
       "      <th>Source.Name</th>\n",
       "      <th>ConfirmedMediation</th>\n",
       "      <th>title</th>\n",
       "      <th>author</th>\n",
       "      <th>publication_date</th>\n",
       "      <th>body_text</th>\n",
       "      <th>search_str</th>\n",
       "      <th>lang</th>\n",
       "    </tr>\n",
       "  </thead>\n",
       "  <tbody>\n",
       "    <tr>\n",
       "      <th>0</th>\n",
       "      <td>6543</td>\n",
       "      <td>7YXP-0B00-Y8Y1-P557-00000-00</td>\n",
       "      <td>&lt;entry xmlns=\"http://www.w3.org/2005/Atom\"&gt;&lt;id...</td>\n",
       "      <td>The Leader-Post (Regina)</td>\n",
       "      <td>False</td>\n",
       "      <td>Northern Ireland</td>\n",
       "      <td>None</td>\n",
       "      <td>2010-07-13T00:00:00Z</td>\n",
       "      <td>None</td>\n",
       "      <td>(\"United Kingdom\") AND [\"Catholic\" OR \"Catholi...</td>\n",
       "      <td>en</td>\n",
       "    </tr>\n",
       "    <tr>\n",
       "      <th>1</th>\n",
       "      <td>6734</td>\n",
       "      <td>4M3X-P5R0-TX4T-G1X3-00000-00</td>\n",
       "      <td>&lt;entry xmlns=\"http://www.w3.org/2005/Atom\"&gt;&lt;id...</td>\n",
       "      <td>The Hamilton Spectator (Ontario, Canada)</td>\n",
       "      <td>False</td>\n",
       "      <td>Top of the World</td>\n",
       "      <td>None</td>\n",
       "      <td>2006-10-14T00:00:00Z</td>\n",
       "      <td>None</td>\n",
       "      <td>(\"United Kingdom\") AND [\"Catholic\" OR \"Catholi...</td>\n",
       "      <td>en</td>\n",
       "    </tr>\n",
       "    <tr>\n",
       "      <th>2</th>\n",
       "      <td>8863</td>\n",
       "      <td>511X-95P1-JBKX-9194-00000-00</td>\n",
       "      <td>&lt;entry xmlns=\"http://www.w3.org/2005/Atom\"&gt;&lt;id...</td>\n",
       "      <td>Providence Journal</td>\n",
       "      <td>False</td>\n",
       "      <td>Historic meeting</td>\n",
       "      <td>None</td>\n",
       "      <td>2010-09-17T00:00:00Z</td>\n",
       "      <td>None</td>\n",
       "      <td>(\"United Kingdom\") AND [\"Catholic\" OR \"Catholi...</td>\n",
       "      <td>en</td>\n",
       "    </tr>\n",
       "    <tr>\n",
       "      <th>3</th>\n",
       "      <td>19437</td>\n",
       "      <td>4M33-JX80-TWD3-Y3C6-00000-00</td>\n",
       "      <td>&lt;entry xmlns=\"http://www.w3.org/2005/Atom\"&gt;&lt;id...</td>\n",
       "      <td>The Gazette (Montreal)</td>\n",
       "      <td>False</td>\n",
       "      <td>A circle of nations</td>\n",
       "      <td>None</td>\n",
       "      <td>2006-10-10T00:00:00Z</td>\n",
       "      <td>None</td>\n",
       "      <td>(Colombia) AND [\"Indigenous People\" OR \"Indige...</td>\n",
       "      <td>en</td>\n",
       "    </tr>\n",
       "    <tr>\n",
       "      <th>4</th>\n",
       "      <td>23961</td>\n",
       "      <td>4MSP-91D0-TX4T-G1SD-00000-00</td>\n",
       "      <td>&lt;entry xmlns=\"http://www.w3.org/2005/Atom\"&gt;&lt;id...</td>\n",
       "      <td>The Hamilton Spectator (Ontario, Canada)</td>\n",
       "      <td>False</td>\n",
       "      <td>TOP OF THE WORLD</td>\n",
       "      <td>None</td>\n",
       "      <td>2007-01-10T00:00:00Z</td>\n",
       "      <td>None</td>\n",
       "      <td>(India) AND [\"Assamese\"] AND [mediat* OR envoy...</td>\n",
       "      <td>en</td>\n",
       "    </tr>\n",
       "    <tr>\n",
       "      <th>5</th>\n",
       "      <td>49930</td>\n",
       "      <td>4N54-YFX0-TX4T-G213-00000-00</td>\n",
       "      <td>&lt;entry xmlns=\"http://www.w3.org/2005/Atom\"&gt;&lt;id...</td>\n",
       "      <td>The Hamilton Spectator (Ontario, Canada)</td>\n",
       "      <td>False</td>\n",
       "      <td>TOP OF THE WORLD</td>\n",
       "      <td>None</td>\n",
       "      <td>2007-02-28T00:00:00Z</td>\n",
       "      <td>None</td>\n",
       "      <td>(Sri Lanka) AND [Muslim*] AND [mediat* OR envo...</td>\n",
       "      <td>en</td>\n",
       "    </tr>\n",
       "    <tr>\n",
       "      <th>6</th>\n",
       "      <td>58301</td>\n",
       "      <td>4JB8-2P70-TWD4-03C5-00000-00</td>\n",
       "      <td>&lt;entry xmlns=\"http://www.w3.org/2005/Atom\"&gt;&lt;id...</td>\n",
       "      <td>The Vancouver Sun (British Columbia)</td>\n",
       "      <td>False</td>\n",
       "      <td>None</td>\n",
       "      <td>None</td>\n",
       "      <td>2006-02-23T00:00:00Z</td>\n",
       "      <td>None</td>\n",
       "      <td>(Sri Lanka) AND [Muslim*] AND [mediat* OR envo...</td>\n",
       "      <td>en</td>\n",
       "    </tr>\n",
       "  </tbody>\n",
       "</table>\n",
       "</div>"
      ],
      "text/plain": [
       "   index           Document.DocumentId  \\\n",
       "0   6543  7YXP-0B00-Y8Y1-P557-00000-00   \n",
       "1   6734  4M3X-P5R0-TX4T-G1X3-00000-00   \n",
       "2   8863  511X-95P1-JBKX-9194-00000-00   \n",
       "3  19437  4M33-JX80-TWD3-Y3C6-00000-00   \n",
       "4  23961  4MSP-91D0-TX4T-G1SD-00000-00   \n",
       "5  49930  4N54-YFX0-TX4T-G213-00000-00   \n",
       "6  58301  4JB8-2P70-TWD4-03C5-00000-00   \n",
       "\n",
       "                                    Document.Content  \\\n",
       "0  <entry xmlns=\"http://www.w3.org/2005/Atom\"><id...   \n",
       "1  <entry xmlns=\"http://www.w3.org/2005/Atom\"><id...   \n",
       "2  <entry xmlns=\"http://www.w3.org/2005/Atom\"><id...   \n",
       "3  <entry xmlns=\"http://www.w3.org/2005/Atom\"><id...   \n",
       "4  <entry xmlns=\"http://www.w3.org/2005/Atom\"><id...   \n",
       "5  <entry xmlns=\"http://www.w3.org/2005/Atom\"><id...   \n",
       "6  <entry xmlns=\"http://www.w3.org/2005/Atom\"><id...   \n",
       "\n",
       "                                Source.Name  ConfirmedMediation  \\\n",
       "0                  The Leader-Post (Regina)               False   \n",
       "1  The Hamilton Spectator (Ontario, Canada)               False   \n",
       "2                        Providence Journal               False   \n",
       "3                    The Gazette (Montreal)               False   \n",
       "4  The Hamilton Spectator (Ontario, Canada)               False   \n",
       "5  The Hamilton Spectator (Ontario, Canada)               False   \n",
       "6      The Vancouver Sun (British Columbia)               False   \n",
       "\n",
       "                 title author      publication_date body_text  \\\n",
       "0     Northern Ireland   None  2010-07-13T00:00:00Z      None   \n",
       "1     Top of the World   None  2006-10-14T00:00:00Z      None   \n",
       "2     Historic meeting   None  2010-09-17T00:00:00Z      None   \n",
       "3  A circle of nations   None  2006-10-10T00:00:00Z      None   \n",
       "4     TOP OF THE WORLD   None  2007-01-10T00:00:00Z      None   \n",
       "5     TOP OF THE WORLD   None  2007-02-28T00:00:00Z      None   \n",
       "6                 None   None  2006-02-23T00:00:00Z      None   \n",
       "\n",
       "                                          search_str lang  \n",
       "0  (\"United Kingdom\") AND [\"Catholic\" OR \"Catholi...   en  \n",
       "1  (\"United Kingdom\") AND [\"Catholic\" OR \"Catholi...   en  \n",
       "2  (\"United Kingdom\") AND [\"Catholic\" OR \"Catholi...   en  \n",
       "3  (Colombia) AND [\"Indigenous People\" OR \"Indige...   en  \n",
       "4  (India) AND [\"Assamese\"] AND [mediat* OR envoy...   en  \n",
       "5  (Sri Lanka) AND [Muslim*] AND [mediat* OR envo...   en  \n",
       "6  (Sri Lanka) AND [Muslim*] AND [mediat* OR envo...   en  "
      ]
     },
     "execution_count": 9,
     "metadata": {},
     "output_type": "execute_result"
    }
   ],
   "source": [
    "# Check new nulls\n",
    "null_idx = en_data['body_text'].isnull()\n",
    "doc_ids = list(en_data.loc[null_idx]['Document.DocumentId'])\n",
    "null_data = data[data['Document.DocumentId'].isin(doc_ids)] # Try to reparse these, otherwise drop\n",
    "null_data.reset_index(inplace=True)\n",
    "null_data"
   ]
  },
  {
   "cell_type": "code",
   "execution_count": 10,
   "metadata": {},
   "outputs": [],
   "source": [
    "# Reset kernel\n",
    "%reset -f\n",
    "\n",
    "import pandas as pd\n",
    "import numpy as np\n",
    "import json\n",
    "import os\n",
    "import pickle\n",
    "\n",
    "seed = 123\n",
    "\n",
    "# Load english only data\n",
    "file_path = '../data/mediation_search_results-all_en.csv'\n",
    "data = pd.read_csv(file_path, sep=',')\n"
   ]
  },
  {
   "cell_type": "markdown",
   "metadata": {},
   "source": [
    "## Descriptive Stats\n",
    "\n",
    "### Proportion of mediation events in the data set."
   ]
  },
  {
   "cell_type": "code",
   "execution_count": 17,
   "metadata": {},
   "outputs": [
    {
     "data": {
      "image/png": "[encoded data removed]",
      "text/plain": [
       "<Figure size 432x288 with 1 Axes>"
      ]
     },
     "metadata": {
      "needs_background": "light"
     },
     "output_type": "display_data"
    }
   ],
   "source": [
    "import matplotlib.pyplot as plt\n",
    "\n",
    "data['ConfirmedMediation'].value_counts(normalize=True).plot.barh()\n",
    "plt.title('Class Frequencies')\n",
    "plt.show()"
   ]
  },
  {
   "cell_type": "code",
   "execution_count": 18,
   "metadata": {},
   "outputs": [
    {
     "data": {
      "text/plain": [
       "False    99.37\n",
       "True      0.63\n",
       "Name: ConfirmedMediation, dtype: float64"
      ]
     },
     "execution_count": 18,
     "metadata": {},
     "output_type": "execute_result"
    }
   ],
   "source": [
    "round(data['ConfirmedMediation'].value_counts(normalize=True) * 100, 2)"
   ]
  },
  {
   "cell_type": "markdown",
   "metadata": {},
   "source": [
    "Mediation events are extremely rare. We will need to upsample positive instances or down sample negative instances to improve the model. Additionally, the train/validation/test split will need to be stratified.\n",
    "\n",
    "### Examples of positive classes"
   ]
  },
  {
   "cell_type": "code",
   "execution_count": 19,
   "metadata": {},
   "outputs": [],
   "source": [
    "def display_n_positive_entries(n=5, colname='body_text', seed=np.random.randint(1e6)):\n",
    "    # Get array of positive cases indices\n",
    "    positive_idx = data['ConfirmedMediation']\n",
    "    positive_idx_array = data[positive_idx].index.values\n",
    "    \n",
    "    # Sample N indices\n",
    "    np.random.seed(seed)\n",
    "    index_sample = list(np.random.choice(positive_idx_array, n, replace=False))\n",
    "    pd.set_option('display.max_colwidth', None)\n",
    "    print(data.iloc[index_sample, :][colname])\n",
    "    pd.set_option('display.max_colwidth', 100)\n"
   ]
  },
  {
   "cell_type": "code",
   "execution_count": 20,
   "metadata": {},
   "outputs": [
    {
     "name": "stdout",
     "output_type": "stream",
     "text": [
      "77509    <entry xmlns=\"http://www.w3.org/2005/Atom\"><id>urn:contentItem:3SKG-CPN0-0001-X0SD-00000-00</id><title>Burmese troops enter warlord's base</title><published>1996-01-03T00:00:00Z</published><updated>2022-04-11T13:58:25Z</updated><author><name>LexisNexis</name></author><content type=\"application/xml\"><!--Transformation version 1.27--><articleDoc xmlns=\"\" xmlns:xsi=\"http://www.w3.org/2001/XMLSchema-instance\" xsi:noNamespaceSchemaLocation=\"http://www.lexisnexis.com/xmlschemas/content/public/articledoc/1/\" schemaVersion=\"1.8\" xml:lang=\"en\"><articleDocHead><itemInfo><sourceSectionInfo><positionSection>International</positionSection></sourceSectionInfo></itemInfo></articleDocHead><nitf:body xmlns:nitf=\"http://iptc.org/std/NITF/2006-10-18/\"><nitf:body.head><nitf:hedline><nitf:hl1>Burmese troops enter warlord's base</nitf:hl1></nitf:hedline><nitf:byline>BY JOHN HAIL</nitf:byline><nitf:dateline>BANGKOK, Jan. 3</nitf:dateline></nitf:body.head><nitf:body.content><bodyText><p nitf:lede=\"true\">Burmese troops have entered the jungle stronghold of Shan Warlord Khun Sa as part of a negotiated cease-fire in one of Asia's oldest insurgencies, Shan rebel sources said Wednesday.  The sources said about 100 Burmese soldiers entered Homong, headquarters of Khun Sa's Muang Tai Army, on New Year's Day following the arrival of six Burmese officers a couple of days earlier.  ''It's not a surrender. They've made a deal. Khun Sa is still there,'' said one source who spoke on condition of anonymity.  Khun Sa, alias Chiang Shi Fu, 61, is reputed to be the world's biggest heroin dealer, controlling the bulk of opium production and refining in the so-called Golden Triangle tri-border region of Thailand, Burma and Laos.  He has been indicted by a U.S. federal court on narcotics charges.  Khun Sa is the most powerful leader of Burma's Shan ethnic minority, which has been fighting for independence from Rangoon since 1948.  Although the Shan people have rallied to his banner, many have expressed uneasiness over his drug connections.  Thai officials have vowed to extradite him to the United States if he crosses the border into Thailand.  ''If Khun Sa enters Thai territory he will definitely be arrested as a drug offender,'' a member of Thailand's National Security Agency told United Press International Wednesday.  Shan sources said the secret peace agreement between Khun Sa and Burma's military government was negotiated by the warlord's uncle, Khun Saeng, alias Ronald Chang, who is in Rangoon.</p><p>''The reports of Rangoon troops in Homong took us by surprise,'' said one Muang Tai Army source. ''Until now the outcome of the peace talks have not been disclosed...Khun Sa is still at Homong or Muang Mai.'' Homong, which is about 19 miles (30 km) from the Thai border and about 420 miles (672 km) north of Bangkok, has been Khun Sa's headquarters for more than a decade and is equipped with a modern hospital, hotels, nightclubs and utilities.  The warlord owns a luxurious villa in the nearby village of Muang Mai.  Burmese forces have made several unsuccessful attempts to capture Homong and surrounding areas and have attacked the base with fighter bombers.  But the Muang Tai Army, believed to number between 10,000 and 15,000 well-armed troops, have mounted fierce resistance.  However, the rebel army was crippled by the defection last year of several thousand Shan troops who were reported to be dissatisfied that most of their officers were ethnic Chinese.  Khun Sa himself is half-Shan and half Chinese while his uncle, Khun Saeng, is pure Chinese.  One Shan rebel, angry over reports of the cease-fire agreement, said Khun Sa could face reprisals from Shan nationalists.  ''Khun Sa has no place to go,'' he said. ''He has all those drug dollars but he can't do anything. He's finished.'' Shan sources said heavy fighting flared Tuesday on Doi Lang, a mountain straddling the Thai-Burmese border, after Khun Sa's forces turned over their positions there to Burmese troops.  The sources said the turnover appeared to be a shrewd move by Khun Sa because the mountain was about to be overrun by another powerful rebel force, the United Wa State Army.  Another source familiar with Burmese politics said he believed Khun Sa had cut a deal similar to another drug warlord, Lo Hsing Han, in the 1970s.  After he surrendered, Lo was allowed to keep much of his drug fortune and go into private business in Rangoon.</p></bodyText></nitf:body.content></nitf:body><metadata><dc:metadata xmlns:dc=\"http://purl.org/dc/elements/1.1/\"><dc:source sourceScheme=\"royaltyReportingKey\">UPI1996</dc:source><dc:identifier identifierScheme=\"PGUID\">urn:contentItem:3SKG-CPN0-0001-X0SD-00000-00</dc:identifier><dc:source sourceScheme=\"productContentSetIdentifier\">8076</dc:source><dc:date dateType=\"last-updated\">2021-03-25</dc:date></dc:metadata><wordCount number=\"570\"/><publicationInfo><publicationName>United Press International</publicationName><copyright>Copyright 1996 U.P.I.</copyright><publicationDate day=\"03\" month=\"01\" year=\"1996\"><dateText>January 3, 1996, Wednesday, BC cycle</dateText></publicationDate><classification classificationScheme=\"publicationtype\"><classificationItem><className>Newswires &amp; Press Releases</className></classificationItem></classification></publicationInfo><classification classificationScheme=\"language\"><classificationItem><className>ENGLISH</className></classificationItem></classification><classificationGroup classificationScheme=\"indexing-terms\"><classification classificationScheme=\"company\"><classificationItem score=\"54\"><className>UNITED PRESS INTERNATIONAL INC </className></classificationItem></classification></classificationGroup><classificationGroup classificationScheme=\"indexing-terms\"><classification classificationScheme=\"industry\"><classificationItem score=\"54\"><className>SIC7383 NEWS SYNDICATES </className></classificationItem></classification><classification classificationScheme=\"organization\"><classificationItem score=\"54\"><className>NATIONAL SECURITY AGENCY  </className></classificationItem><classificationItem score=\"54\"><className> NATIONAL SECURITY AGENCY </className></classificationItem></classification><classification classificationScheme=\"company\"><classificationItem score=\"54\"><className>UNITED PRESS INTERNATIONAL INC </className></classificationItem><classificationItem score=\"54\"><className>   NATIONAL SECURITY AGENCY  </className></classificationItem><classificationItem score=\"54\"><className> NATIONAL SECURITY AGENCY </className></classificationItem></classification></classificationGroup><classificationGroup classificationScheme=\"indexing-terms\"><classification classificationScheme=\"subject\"><classificationItem score=\"92\"><classCode>ST0008X5W</classCode><className>SPECIAL INVESTIGATIVE FORCES</className></classificationItem><classificationItem score=\"91\"><classCode>STX001304</classCode><className>PEACE PROCESS</className></classificationItem><classificationItem score=\"91\"><classCode>STX001814</classCode><className>WAR &amp; CONFLICT</className></classificationItem><classificationItem score=\"90\"><classCode>N928110MM</classCode><className>ARMED FORCES</className></classificationItem><classificationItem score=\"90\"><classCode>ST00097CN</classCode><className>ARMIES</className></classificationItem><classificationItem score=\"90\"><classCode>STX000535</classCode><className>CONTROLLED SUBSTANCES CRIME</className></classificationItem><classificationItem score=\"90\"><classCode>STX000938</classCode><className>INTELLIGENCE SERVICES</className></classificationItem><classificationItem score=\"90\"><classCode>N928000CC</classCode><className>INTERNATIONAL RELATIONS &amp; NATIONAL SECURITY</className></classificationItem><classificationItem score=\"90\"><classCode>ST000DO1N</classCode><className>NARCOTICS</className></classificationItem><classificationItem score=\"90\"><classCode>STX001996</classCode><className>NATIONAL SECURITY</className></classificationItem><classificationItem score=\"90\"><classCode>ST0009FJK</classCode><className>NEGATIVE PERSONAL NEWS</className></classificationItem><classificationItem score=\"90\"><classCode>N921100MM</classCode><className>US FEDERAL GOVERNMENT</className></classificationItem><classificationItem score=\"89\"><classCode>ST000DH0Q</classCode><className>AGREEMENTS</className></classificationItem><classificationItem score=\"89\"><classCode>ST000DM6W</classCode><className>CEASEFIRES</className></classificationItem><classificationItem score=\"89\"><classCode>STX001456</classCode><className>REBELLIONS &amp; INSURGENCIES</className></classificationItem><classificationItem score=\"89\"><classCode>STX001758</classCode><className>TREATIES &amp; AGREEMENTS</className></classificationItem><classificationItem score=\"78\"><classCode>STX001669</classCode><className>TALKS &amp; MEETINGS</className></classificationItem><classificationItem score=\"78\"><classCode>STX001193</classCode><className>TERRITORIAL &amp; NATIONAL BORDERS</className></classificationItem><classificationItem score=\"77\"><classCode>STX000112</classCode><className>ARRESTS</className></classificationItem><classificationItem score=\"77\"><classCode>STX000847</classCode><className>HEROIN</className></classificationItem><classificationItem score=\"74\"><classCode>ST000CY59</classCode><className>DRUG TRAFFICKING</className></classificationItem><classificationItem score=\"74\"><classCode>STX000682</classCode><className>EXTRADITION</className></classificationItem><classificationItem score=\"73\"><classCode>N920000CC</classCode><className>GOVERNMENT &amp; PUBLIC ADMINISTRATION</className></classificationItem><classificationItem score=\"73\"><classCode>ST000A4JV</classCode><className>INDICTMENTS</className></classificationItem><classificationItem score=\"69\"><classCode>STX001256</classCode><className>OPIUM</className></classificationItem><classificationItem score=\"67\"><classCode>ST0009P2U</classCode><className>ETHNIC GROUPS</className></classificationItem><classificationItem score=\"67\"><classCode>ST000DIUR</classCode><className>MINORITY GROUPS</className></classificationItem><classificationItem score=\"67\"><classCode>STX001444</classCode><className>RACE &amp; ETHNICITY</className></classificationItem><classificationItem score=\"67\"><classCode>STX001551</classCode><className>SEPARATISM &amp; SECESSION</className></classificationItem></classification><classification classificationScheme=\"industry\"><classificationItem score=\"90\"><classCode>N928110MM</classCode><className>ARMED FORCES</className></classificationItem><classificationItem score=\"90\"><classCode>ST00097CN</classCode><className>ARMIES</className></classificationItem><classificationItem score=\"90\"><classCode>ST000DO1N</classCode><className>NARCOTICS</className></classificationItem><classificationItem score=\"77\"><classCode>STX000847</classCode><className>HEROIN</className></classificationItem><classificationItem score=\"69\"><classCode>STX001256</classCode><className>OPIUM</className></classificationItem><classificationItem score=\"50\"><classCode>N721110GM</classCode><className>HOTELS &amp; MOTELS</className></classificationItem><classificationItem score=\"50\"><classCode>ST000DIFJ</classCode><className>NIGHTCLUBS</className></classificationItem></classification><classification classificationScheme=\"city\"><classificationItem score=\"92\"><classCode>GX323</classCode><className>BANGKOK, THAILAND</className></classificationItem><classificationItem score=\"92\"><classCode>GX226</classCode><className>YANGON, MYANMAR</className></classificationItem></classification><classification classificationScheme=\"country\"><classificationItem score=\"98\"><classCode>GC522</classCode><className>MYANMAR</className></classificationItem><classificationItem score=\"94\"><classCode>GC313</classCode><className>THAILAND</className></classificationItem><classificationItem score=\"92\"><classCode>GC343</classCode><className>UNITED STATES</className></classificationItem><classificationItem score=\"79\"><classCode>GT113</classCode><className>ASIA</className></classificationItem><classificationItem score=\"79\"><classCode>GC372</classCode><className>LAO PEOPLE'S DEMOCRATIC REPUBLIC</className></classificationItem></classification></classificationGroup></metadata></articleDoc></content></entry>\n",
      "Name: Document.Content, dtype: object\n"
     ]
    }
   ],
   "source": [
    "# Compare DocumentContent with Parsed test\n",
    "display_n_positive_entries(n=1, colname='Document.Content', seed=seed)"
   ]
  },
  {
   "cell_type": "code",
   "execution_count": 21,
   "metadata": {},
   "outputs": [
    {
     "name": "stdout",
     "output_type": "stream",
     "text": [
      "77509    Burmese troops have entered the jungle stronghold of Shan Warlord Khun Sa as part of a negotiated cease-fire in one of Asia's oldest insurgencies, Shan rebel sources said Wednesday.  The sources said about 100 Burmese soldiers entered Homong, headquarters of Khun Sa's Muang Tai Army, on New Year's Day following the arrival of six Burmese officers a couple of days earlier.  ''It's not a surrender. They've made a deal. Khun Sa is still there,'' said one source who spoke on condition of anonymity.  Khun Sa, alias Chiang Shi Fu, 61, is reputed to be the world's biggest heroin dealer, controlling the bulk of opium production and refining in the so-called Golden Triangle tri-border region of Thailand, Burma and Laos.  He has been indicted by a U.S. federal court on narcotics charges.  Khun Sa is the most powerful leader of Burma's Shan ethnic minority, which has been fighting for independence from Rangoon since 1948.  Although the Shan people have rallied to his banner, many have expressed uneasiness over his drug connections.  Thai officials have vowed to extradite him to the United States if he crosses the border into Thailand.  ''If Khun Sa enters Thai territory he will definitely be arrested as a drug offender,'' a member of Thailand's National Security Agency told United Press International Wednesday.  Shan sources said the secret peace agreement between Khun Sa and Burma's military government was negotiated by the warlord's uncle, Khun Saeng, alias Ronald Chang, who is in Rangoon.\\n\\n''The reports of Rangoon troops in Homong took us by surprise,'' said one Muang Tai Army source. ''Until now the outcome of the peace talks have not been disclosed...Khun Sa is still at Homong or Muang Mai.'' Homong, which is about 19 miles (30 km) from the Thai border and about 420 miles (672 km) north of Bangkok, has been Khun Sa's headquarters for more than a decade and is equipped with a modern hospital, hotels, nightclubs and utilities.  The warlord owns a luxurious villa in the nearby village of Muang Mai.  Burmese forces have made several unsuccessful attempts to capture Homong and surrounding areas and have attacked the base with fighter bombers.  But the Muang Tai Army, believed to number between 10,000 and 15,000 well-armed troops, have mounted fierce resistance.  However, the rebel army was crippled by the defection last year of several thousand Shan troops who were reported to be dissatisfied that most of their officers were ethnic Chinese.  Khun Sa himself is half-Shan and half Chinese while his uncle, Khun Saeng, is pure Chinese.  One Shan rebel, angry over reports of the cease-fire agreement, said Khun Sa could face reprisals from Shan nationalists.  ''Khun Sa has no place to go,'' he said. ''He has all those drug dollars but he can't do anything. He's finished.'' Shan sources said heavy fighting flared Tuesday on Doi Lang, a mountain straddling the Thai-Burmese border, after Khun Sa's forces turned over their positions there to Burmese troops.  The sources said the turnover appeared to be a shrewd move by Khun Sa because the mountain was about to be overrun by another powerful rebel force, the United Wa State Army.  Another source familiar with Burmese politics said he believed Khun Sa had cut a deal similar to another drug warlord, Lo Hsing Han, in the 1970s.  After he surrendered, Lo was allowed to keep much of his drug fortune and go into private business in Rangoon.\n",
      "Name: body_text, dtype: object\n"
     ]
    }
   ],
   "source": [
    "display_n_positive_entries(n=1, colname='body_text', seed=123)"
   ]
  },
  {
   "cell_type": "markdown",
   "metadata": {},
   "source": [
    "### How long are our documents on average?"
   ]
  },
  {
   "cell_type": "code",
   "execution_count": 23,
   "metadata": {},
   "outputs": [
    {
     "data": {
      "image/png": "[encoded data removed]",
      "text/plain": [
       "<Figure size 432x288 with 1 Axes>"
      ]
     },
     "metadata": {
      "needs_background": "light"
     },
     "output_type": "display_data"
    }
   ],
   "source": [
    "data['words_per_doc'] = data['body_text'].dropna().str.split().apply(len)\n",
    "data.boxplot(\n",
    "    \"words_per_doc\", \n",
    "    by=\"ConfirmedMediation\",\n",
    "    grid=False,\n",
    "    showfliers=False,\n",
    "    color=\"black\"\n",
    "    )\n",
    "plt.suptitle(\"\")\n",
    "plt.xlabel(\"\")\n",
    "plt.show()"
   ]
  },
  {
   "cell_type": "markdown",
   "metadata": {},
   "source": [
    "Most mediation documents are shorter than 750 tokens whereas the null class has a much larger spread with over half being longer than 500 tokens. Unless we want to significantly truncate our examples, we cannot use DistilBERT (512 tokens max). One option is [Longformer](https://huggingface.co/docs/transformers/v4.18.0/en/model_doc/longformer). "
   ]
  },
  {
   "cell_type": "markdown",
   "metadata": {},
   "source": [
    "# Create Dataset\n",
    "\n",
    "Use imbalanced-learn library to create train/test split datasets and perform resampling (up- and down-sampling) *within* each split to create more informative data for training on. This still might not be enough to obtain good results given the class imbalances."
   ]
  },
  {
   "cell_type": "code",
   "execution_count": 17,
   "metadata": {},
   "outputs": [],
   "source": [
    "from sklearn.model_selection import train_test_split\n",
    "from sklearn.preprocessing import LabelEncoder\n",
    "\n",
    "# Create raw dataframe\n",
    "raw_data = data[['body_text', 'ConfirmedMediation', 'search_str']].rename(columns={\n",
    "    'body_text': 'text', \n",
    "    'ConfirmedMediation': 'label',\n",
    "    'search_str': 'dispute'\n",
    "    })\n",
    "raw_data['label'] = (raw_data['label'] == True).astype(int)\n",
    "\n",
    "# Drop nas\n",
    "raw_data.dropna(inplace=True)\n",
    "\n",
    "# Subset dataset columns to features and targets\n",
    "X = raw_data[['text', 'dispute']]\n",
    "label = raw_data['label']\n",
    "\n",
    "# Create stratified train/test split\n",
    "X_train, X_test, label_train, label_test = train_test_split(X, label,\n",
    "                                                            test_size=0.3,\n",
    "                                                            random_state=123,\n",
    "                                                            stratify=label)\n",
    "\n",
    "# Save dispute search strings separately\n",
    "dispute_train, dispute_test = X_train['dispute'], X_test['dispute']\n",
    "text_train, text_test = X_train['text'], X_test['text']\n",
    "\n",
    "# Combine into train/test split dataframes and save as hugging face dataset\n",
    "train_raw = pd.concat([text_train, label_train], axis=1)\n",
    "test_raw = pd.concat([text_test, label_test], axis=1)"
   ]
  },
  {
   "cell_type": "code",
   "execution_count": 21,
   "metadata": {},
   "outputs": [
    {
     "name": "stdout",
     "output_type": "stream",
     "text": [
      "CSV already exists.\n",
      "CSV already exists.\n",
      "CSV does not exist. Writing...\n",
      "CSV saved.\n",
      "CSV does not exist. Writing...\n",
      "CSV saved.\n"
     ]
    }
   ],
   "source": [
    "def df_to_csv(path, df, sep=';', index=False):\n",
    "    if not os.path.exists(path):\n",
    "        print('CSV does not exist. Writing...')\n",
    "        try:\n",
    "            df.to_csv(path, index=index,  sep=sep)\n",
    "        except Exception as e:\n",
    "            raise e\n",
    "        print('CSV saved.')\n",
    "    else:\n",
    "        print('CSV already exists.')\n",
    "\n",
    "# Save splits to json\n",
    "base_path = '../data/mediation_search_results'\n",
    "for split, df in zip(['train', 'test'], [train_raw, test_raw]):\n",
    "    outfile = f'{base_path}-{split}.csv'\n",
    "    df_to_csv(outfile, df=df, sep=',')\n",
    "    \n",
    "base_path = '../data/dispute_string'\n",
    "for split, df in zip(['train', 'test'], [dispute_train, dispute_test]):\n",
    "    outfile = f'{base_path}-{split}.csv'\n",
    "    df_to_csv(outfile, df=df, sep=',', index=True)"
   ]
  },
  {
   "cell_type": "code",
   "execution_count": 2,
   "metadata": {},
   "outputs": [],
   "source": [
    "# Write training and testing splits to box\n",
    "\n",
    "# Instantiate box client and write to box\n",
    "from boxsdk import DevelopmentClient\n",
    "import configparser\n",
    "\n",
    "# Read in configuration variables\n",
    "parser = configparser.ConfigParser()\n",
    "parser.read(\"../pipeline.conf\")\n",
    "\n",
    "client = DevelopmentClient()"
   ]
  },
  {
   "cell_type": "code",
   "execution_count": 3,
   "metadata": {},
   "outputs": [
    {
     "name": "stdout",
     "output_type": "stream",
     "text": [
      "\u001b[36mGET https://api.box.com/2.0/folders/144471737937 {'headers': {'Authorization': '---SrIF',\n",
      "             'User-Agent': 'box-python-sdk-3.4.0',\n",
      "             'X-Box-UA': 'agent=box-python-sdk/3.4.0; env=python/3.10.4'},\n",
      " 'params': None}\u001b[0m\n",
      "\u001b[32m\"GET https://api.box.com/2.0/folders/144471737937\" 200 1942\n",
      "{'Date': 'Wed, 24 Aug 2022 18:23:53 GMT', 'Content-Type': 'application/json', 'Transfer-Encoding': 'chunked', 'x-envoy-upstream-service-time': '223', 'etag': '\"0\"', 'box-request-id': '0d2c19a84b103fee3d98d83aa0865199', 'cache-control': 'no-cache, no-store', 'strict-transport-security': 'max-age=31536000', 'Via': '1.1 google', 'Alt-Svc': 'h3=\":443\"; ma=2592000,h3-29=\":443\"; ma=2592000,h3-Q050=\":443\"; ma=2592000,h3-Q046=\":443\"; ma=2592000,h3-Q043=\":443\"; ma=2592000,quic=\":443\"; ma=2592000; v=\"46,43\"'}\n",
      "{'content_created_at': '2021-08-28T07:59:31-07:00',\n",
      " 'content_modified_at': '2022-08-24T11:19:07-07:00',\n",
      " 'created_at': '2021-08-28T07:59:31-07:00',\n",
      " 'created_by': {'id': '15074227686',\n",
      "                'login': 'meglloyd@umd.edu',\n",
      "                'name': 'Megan Lloyd',\n",
      "                'type': 'user'},\n",
      " 'description': '',\n",
      " 'etag': '0',\n",
      " 'folder_upload_email': None,\n",
      " 'id': '144471737937',\n",
      " 'item_collection': {'entries': [{'etag': '1',\n",
      "                                  'id': '156394795000',\n",
      "                                  'name': 'Archived',\n",
      "                                  'sequence_id': '1',\n",
      "                                  'type': 'folder'},\n",
      "                                 {'etag': '0',\n",
      "                                  'id': '156398623096',\n",
      "                                  'name': 'Coder Training',\n",
      "                                  'sequence_id': '0',\n",
      "                                  'type': 'folder'},\n",
      "                                 {'etag': '0',\n",
      "                                  'id': '170493571324',\n",
      "                                  'name': 'curation-pipeline',\n",
      "                                  'sequence_id': '0',\n",
      "                                  'type': 'folder'},\n",
      "                                 {'etag': '1',\n",
      "                                  'id': '145301373226',\n",
      "                                  'name': 'Existing Data Projects',\n",
      "                                  'sequence_id': '1',\n",
      "                                  'type': 'folder'},\n",
      "                                 {'etag': '1',\n",
      "                                  'id': '144472052450',\n",
      "                                  'name': 'Mediation and Conflict Prevention '\n",
      "                                          'Data Project',\n",
      "                                  'sequence_id': '1',\n",
      "                                  'type': 'folder'},\n",
      "                                 {'etag': '1',\n",
      "                                  'id': '144471021827',\n",
      "                                  'name': 'Other Documents',\n",
      "                                  'sequence_id': '1',\n",
      "                                  'type': 'folder'}],\n",
      "                     'limit': 100,\n",
      "                     'offset': 0,\n",
      "                     'order': [{'by': 'type', 'direction': 'ASC'},\n",
      "                               {'by': 'name', 'direction': 'ASC'}],\n",
      "                     'total_count': 6},\n",
      " 'item_status': 'active',\n",
      " 'modified_at': '2022-08-24T11:19:07-07:00',\n",
      " 'modified_by': {'id': '17101481913',\n",
      "                 'login': 'eajones3@umd.edu',\n",
      "                 'name': 'Evan Jones',\n",
      "                 'type': 'user'},\n",
      " 'name': 'Mediation Project',\n",
      " 'owned_by': {'id': '15074227686',\n",
      "              'login': 'meglloyd@umd.edu',\n",
      "              'name': 'Megan Lloyd',\n",
      "              'type': 'user'},\n",
      " 'parent': None,\n",
      " 'path_collection': {'entries': [{'etag': None,\n",
      "                                  'id': '0',\n",
      "                                  'name': 'All Files',\n",
      "                                  'sequence_id': None,\n",
      "                                  'type': 'folder'}],\n",
      "                     'total_count': 1},\n",
      " 'purged_at': None,\n",
      " 'sequence_id': '0',\n",
      " 'shared_link': {'access': 'collaborators',\n",
      "                 'download_count': 0,\n",
      "                 'download_url': None,\n",
      "                 'effective_access': 'collaborators',\n",
      "                 'effective_permission': 'no_access',\n",
      "                 'is_password_enabled': False,\n",
      "                 'permissions': {'can_download': False,\n",
      "                                 'can_edit': False,\n",
      "                                 'can_preview': False},\n",
      "                 'preview_count': 0,\n",
      "                 'unshared_at': None,\n",
      "                 'url': 'https://umd.box.com/s/fnvzsdsahjrq5oyxd510i7qrugtvl8yy',\n",
      "                 'vanity_name': None,\n",
      "                 'vanity_url': None},\n",
      " 'size': 9633013890,\n",
      " 'trashed_at': None,\n",
      " 'type': 'folder'}\n",
      "\u001b[0m\n"
     ]
    }
   ],
   "source": [
    "# Retrieve mediation project folder info\n",
    "folder_id = parser.get(\"umd_box_credentials\", \"OTHER_DOCUMENTS_FOLDER_ID\")\n",
    "other_documents_folder = client.folder(folder_id=folder_id).get()\n"
   ]
  },
  {
   "cell_type": "code",
   "execution_count": 5,
   "metadata": {},
   "outputs": [],
   "source": [
    "# Create subfolders if not already created\n",
    "# and push data\n",
    "dataset_paths = ['../data/mediation_search_results-test.csv', '../data/mediation_search_results-train.csv']\n",
    "\n",
    "already_created = 'curation-pipeline' in [folder.name for folder in other_documents_folder.item_collection['entries']]\n",
    "if not already_created:\n",
    "    project_folder = other_documents_folder.create_subfolder('curation-pipeline')\n",
    "    print(f\"Created project subfolder with ID {project_folder.id}\")\n",
    "    \n",
    "    # Create data subfolder\n",
    "    data_folder = project_folder.create_subfolder('data')\n",
    "    print(f\"Created data subfolder with ID {data_folder.id}\")\n",
    "    \n",
    "# Push train and test splits to box\n",
    "for path in dataset_paths:\n",
    "    chunked_uploader = client.folder(data_folder.id).get_chunked_uploader(path)\n",
    "    try:\n",
    "        uploaded_file = chunked_uploader.start()\n",
    "    except:\n",
    "        uploaded_file = chunked_uploader.resume()\n",
    "    print(f'File \"{uploaded_file.name}\" uploaded to Box with file ID {uploaded_file.id}')\n",
    "    "
   ]
  }
 ],
 "metadata": {
  "kernelspec": {
   "display_name": "Python 3.10.4 ('venv': venv)",
   "language": "python",
   "name": "python3"
  },
  "language_info": {
   "codemirror_mode": {
    "name": "ipython",
    "version": 3
   },
   "file_extension": ".py",
   "mimetype": "text/x-python",
   "name": "python",
   "nbconvert_exporter": "python",
   "pygments_lexer": "ipython3",
   "version": "3.10.4"
  },
  "orig_nbformat": 4,
  "vscode": {
   "interpreter": {
    "hash": "23e2f4aa6c5c960a56af36c5738a3611d1d4a2b6f639cc92a03d7c2d843ec374"
   }
  }
 },
 "nbformat": 4,
 "nbformat_minor": 2
}
